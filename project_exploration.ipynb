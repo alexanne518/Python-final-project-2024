{
 "cells": [
  {
   "cell_type": "markdown",
   "metadata": {},
   "source": [
    "Grow Your Mind\n",
    "\n",
    "data stored\n",
    "- what plant useer chose\n",
    "- any progress with plant growth\n",
    "- any asisments\n",
    "    update assigment\n",
    "    completed\n",
    "- enter amount od hours studied\n",
    "\n",
    "data processing\n",
    "- get what time it is so change backround if nigth or morning\n",
    "current_time.date()\n",
    "\n",
    "\n"
   ]
  },
  {
   "cell_type": "code",
   "execution_count": 4,
   "metadata": {},
   "outputs": [
    {
     "name": "stdout",
     "output_type": "stream",
     "text": [
      "14:25:32.534080\n"
     ]
    }
   ],
   "source": [
    "from datetime import datetime\n",
    "\n",
    "current_time = datetime.now()\n",
    "print(current_time.time())\n"
   ]
  },
  {
   "cell_type": "markdown",
   "metadata": {},
   "source": [
    "mock data"
   ]
  },
  {
   "cell_type": "code",
   "execution_count": 7,
   "metadata": {},
   "outputs": [
    {
     "name": "stdout",
     "output_type": "stream",
     "text": [
      "Enter New Assigmnet\n"
     ]
    }
   ],
   "source": [
    "#user has to enter name and what they are studying for\n",
    "user_info_name = input(print(\"Enter your name\"))\n",
    "user_info_programme = input(print(\"What are you studying for?\"))\n",
    "\n",
    "def Make_user_disc(user_info_name, user_info_programme):\n",
    "    return {\n",
    "        \"name\" : user_info_name,\n",
    "        \"programme\": user_info_programme\n",
    "    }\n",
    "    \n",
    "\n",
    "new_assigment_name = input(print(\"Enter New Assigmnet Name:\"))\n",
    "#will enter that into tthe data base and store it and the user will be able to put in the discription what the assiment is\n",
    "\n",
    "from datetime import datetime\n",
    "\n",
    "current_time = datetime.now()\n",
    "print(current_time.time())\n",
    "# if nigth i will display somthing if day display somthing else\n"
   ]
  }
 ],
 "metadata": {
  "kernelspec": {
   "display_name": "base",
   "language": "python",
   "name": "python3"
  },
  "language_info": {
   "codemirror_mode": {
    "name": "ipython",
    "version": 3
   },
   "file_extension": ".py",
   "mimetype": "text/x-python",
   "name": "python",
   "nbconvert_exporter": "python",
   "pygments_lexer": "ipython3",
   "version": "3.12.4"
  }
 },
 "nbformat": 4,
 "nbformat_minor": 2
}
